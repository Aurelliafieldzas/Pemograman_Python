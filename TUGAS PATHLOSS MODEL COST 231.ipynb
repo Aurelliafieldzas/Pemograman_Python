{
  "nbformat": 4,
  "nbformat_minor": 0,
  "metadata": {
    "colab": {
      "name": "Untitled0.ipynb",
      "provenance": [],
      "authorship_tag": "ABX9TyOyN139YFCbfEsBuAk9zBK4",
      "include_colab_link": true
    },
    "kernelspec": {
      "name": "python3",
      "display_name": "Python 3"
    }
  },
  "cells": [
    {
      "cell_type": "markdown",
      "metadata": {
        "id": "view-in-github",
        "colab_type": "text"
      },
      "source": [
        "<a href=\"https://colab.research.google.com/github/Aurelliafieldzas/Pemograman_Python/blob/main/TUGAS%20PATHLOSS%20MODEL%20COST%20231.ipynb\" target=\"_parent\"><img src=\"https://colab.research.google.com/assets/colab-badge.svg\" alt=\"Open In Colab\"/></a>"
      ]
    },
    {
      "cell_type": "code",
      "metadata": {
        "colab": {
          "base_uri": "https://localhost:8080/"
        },
        "id": "LIJ9mH7Ih37y",
        "outputId": "57cbe286-efd2-49db-9926-6627ffea3eaf"
      },
      "source": [
        "#program utamaaaa\r\n",
        "d = int(input(\"Masukkan jarak dalam kilometer: \"))\r\n",
        "fc = int(input(\"Masukkan frekuensi 150 MHz-2000 MHz: \"))\r\n",
        "area = input(\"Masukkan tipe area: \")\r\n",
        "ht = int(input(\"Masukkan tinggi antena pemancar 30-200 meter: \"))\r\n",
        "hr = int(input(\"Masukkan tinggi antena penerima 1-30 meter: \"))"
      ],
      "execution_count": 1,
      "outputs": [
        {
          "output_type": "stream",
          "text": [
            "Masukkan jarak dalam kilometer: 150\n",
            "Masukkan frekuensi 150 MHz-2000 MHz: 1700\n",
            "Masukkan tipe area: suburban\n",
            "Masukkan tinggi antena pemancar 30-200 meter: 180\n",
            "Masukkan tinggi antena penerima 1-30 meter: 25\n"
          ],
          "name": "stdout"
        }
      ]
    },
    {
      "cell_type": "code",
      "metadata": {
        "id": "QOh1sJUTiXLu"
      },
      "source": [
        "import numpy as np"
      ],
      "execution_count": 2,
      "outputs": []
    },
    {
      "cell_type": "code",
      "metadata": {
        "id": "jKkh3UQ3ngQi"
      },
      "source": [
        "NtL = lambda x: 10*np.log10(x)"
      ],
      "execution_count": 3,
      "outputs": []
    },
    {
      "cell_type": "code",
      "metadata": {
        "id": "xqt-mSKrni8V"
      },
      "source": [
        "LtN = lambda x: 10**(x/10)"
      ],
      "execution_count": 4,
      "outputs": []
    },
    {
      "cell_type": "code",
      "metadata": {
        "id": "1fvJfS16nmp9"
      },
      "source": [
        "def cesiji (a):\r\n",
        "  if a in range (400,1500):\r\n",
        "    return 69.55\r\n",
        "\r\n",
        "  elif a in range (1500,2000):\r\n",
        "    return 46.3"
      ],
      "execution_count": 5,
      "outputs": []
    },
    {
      "cell_type": "code",
      "metadata": {
        "id": "9BQAQr7Dnvqb"
      },
      "source": [
        "def celoro (a):\r\n",
        "  if a in range (400,1500):\r\n",
        "    return 26.16\r\n",
        "\r\n",
        "  elif a in range (1500,2000):\r\n",
        "    return 33.9"
      ],
      "execution_count": 6,
      "outputs": []
    },
    {
      "cell_type": "code",
      "metadata": {
        "id": "DVkb85KCn3yA"
      },
      "source": [
        "def celu (area,fc):\r\n",
        "  if area ==  \"urban\":\r\n",
        "    return 0\r\n",
        "  if area == \"suburban\":\r\n",
        "    return -2*(np.log10(fc/28)**2 - 5.4)\r\n",
        "  if area == \"open\":\r\n",
        "    return -4.78*(np.log10(fc))**2 + 18.33*np.log10(fc) - 40.94"
      ],
      "execution_count": 7,
      "outputs": []
    },
    {
      "cell_type": "code",
      "metadata": {
        "id": "JK81qIXsn_7U"
      },
      "source": [
        "def cepat (a):\r\n",
        "  return (1.1*np.log10(a)-0.7)*hr - (1.56*np.log10(a)-0.8)"
      ],
      "execution_count": 8,
      "outputs": []
    },
    {
      "cell_type": "code",
      "metadata": {
        "id": "q5qt9OiCoM1a"
      },
      "source": [
        "c1 = cesiji(fc)\r\n",
        "c2 = celoro(fc)\r\n",
        "cm = celu(area,fc)\r\n",
        "ahr = cepat(fc)"
      ],
      "execution_count": 9,
      "outputs": []
    },
    {
      "cell_type": "code",
      "metadata": {
        "colab": {
          "base_uri": "https://localhost:8080/"
        },
        "id": "AYKsB2CHoUkJ",
        "outputId": "0de69bf1-50a6-463f-86cb-e1b079c767ce"
      },
      "source": [
        "print(c1)\r\n",
        "print(c2)\r\n",
        "print(cm)\r\n",
        "print(ahr)"
      ],
      "execution_count": 10,
      "outputs": [
        {
          "output_type": "stream",
          "text": [
            "46.3\n",
            "33.9\n",
            "4.4397472030288325\n",
            "67.09784502055244\n"
          ],
          "name": "stdout"
        }
      ]
    },
    {
      "cell_type": "code",
      "metadata": {
        "colab": {
          "base_uri": "https://localhost:8080/"
        },
        "id": "YIPYTLQ3ofNo",
        "outputId": "54eaf996-b2b6-43da-b8d0-4ab3b913953e"
      },
      "source": [
        "pldb = c1 + c2*np.log10(fc) - 13.83*np.log10(ht) - ahr + (44.9-6.55*np.log10(ht))*np.log10(d) + cm\r\n",
        "print(\"Pathloss adalah: \" , pldb , \" db\")"
      ],
      "execution_count": 11,
      "outputs": [
        {
          "output_type": "stream",
          "text": [
            "Pathloss adalah:  127.52490336052861  db\n"
          ],
          "name": "stdout"
        }
      ]
    }
  ]
}